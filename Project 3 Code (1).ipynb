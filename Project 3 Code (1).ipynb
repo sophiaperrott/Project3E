{
 "cells": [
  {
   "cell_type": "markdown",
   "metadata": {},
   "source": [
    "# Project 3C: Exercise and CVD"
   ]
  },
  {
   "cell_type": "markdown",
   "metadata": {},
   "source": [
    "### Scientific Question: Do people who exercise regularly have a lower risk of developing cardiovascular disease?"
   ]
  },
  {
   "cell_type": "markdown",
   "metadata": {},
   "source": [
    "Cardiovascular disease is a leading cause of death and disease. In order to address this global burden, it is essential to understand risk factors and methods of prevention. In 2017, chronic lower respiratory disease and stroke were the third and fourth leading causes of death in the United States. Both diseases are considered a subset of CVD. Additionally, in the same year, 17.8 milion global deaths and 485.6 million cases were attributed to CVD.\n",
    "\n",
    "\n",
    "The Global Burden of Disease conducted a study that associated low levels of physical activity with CVD (1). In addition to this study, hundreds of studies offer data to support that physical inactivity is associated with heart related diseases like stroke, heart failure, and cancer. Different measures of exercise factors including grip strength, physical activity, and cardiorespiratory fitness have been associated with an inverse relationship with cardiovascular events (2). Along with smoking cessation and healthy diet, physical activity is considered a method of primary prevention.\n"
   ]
  },
  {
   "cell_type": "markdown",
   "metadata": {},
   "source": [
    "### Hypothesis: If individuals incorporate the WHO recommended physical activity into their lives, they will have a lower risk of developing cardio vascular disease. \n"
   ]
  },
  {
   "cell_type": "markdown",
   "metadata": {},
   "source": [
    "Physical activity can be difficult to measure. Most studies are observational and require finding a percent risk of CVD in a cohort. The World Health Organization (WHO) recommends that individuals incoporate no less than 150 minutes of moderate-intensity aerobic physical activity or 75 minutes of vigorous-intensity aerobic physical activity or an equivalent combination of both of these types of activity (3). \n",
    "In order to answer my scientific question and test my hypothesis, I used different percentages of lifetime risk of CVD from a study by Kubota et. al. This study found percentages of CVD lifetime risk for groups of males and females divided into the ages 45, 55, and 65 and also into poor, intermediate, and recommended levels of physical activty. Poor PA was considered 0 minutes per week of MVPA (moderate-vigorous physical activity) and recommended PA was considered >= 75 minutes of VPA (vigorous physical activity) and >= 150 minutes of MVPA. Using this data, I will use a t-test to calculate the p-value to compare either male or females in each age group with poor and recommended activity levels then visualize the data with a boxplot."
   ]
  },
  {
   "cell_type": "markdown",
   "metadata": {},
   "source": [
    "### Part 1: Load the Necessary Packages"
   ]
  },
  {
   "cell_type": "markdown",
   "metadata": {},
   "source": [
    "Numpy: \"stands for numerical python\", library for working with large, multidimensional arrays and matrices and for using complex mathematical functions\n",
    "\n",
    "Pandas: \"Python Data Analysis Library\", library for data analysis and machine learning techniques, provides 2d table object Dataframe\n",
    "\n",
    "SciPy: library for mathematics, science, engineering, and technical concepts, built on top of numpy extension\n",
    "\n",
    "matplotlib: library for creating various visualizations, extension of numpy\n",
    "\n"
   ]
  },
  {
   "cell_type": "code",
   "execution_count": 234,
   "metadata": {},
   "outputs": [],
   "source": [
    "import numpy as np\n",
    "from scipy.stats import ttest_ind\n",
    "import matplotlib.pyplot as plt\n",
    "import pandas as pd"
   ]
  },
  {
   "cell_type": "markdown",
   "metadata": {},
   "source": [
    "### Part 2: Input Data from the NCBI Study and Generate Random Number Within the Specified Ranges"
   ]
  },
  {
   "cell_type": "markdown",
   "metadata": {},
   "source": [
    "From Table 1 in the article by Kubota et. al, the ranges of data were inputed in a random number generator function. All numbers are percentages of CVD lifetime risk ranging from 23% to 56%. There were 7,252 women and 5,807 men in the study. Men and women ages 45, 55, and 65 were divided into nine different groups for poor, moderate, and recommended physical activity. Since the code I am using is for a two sample t-test, I used only six groups ages 45, 55, and 65 divided into two categories of fitness (poor and recommended). I divided the sample size of women and men by six then rounded to get an even number of samples for each data set. "
   ]
  },
  {
   "cell_type": "code",
   "execution_count": 235,
   "metadata": {},
   "outputs": [],
   "source": [
    "#use np.random.randint, a function of the random package, to generate random integers for \n",
    "#females and males ages 45, 55, and 65 \n",
    "\n",
    "f45rec = np.random.randint(27, 33, 1208)\n",
    "f45poor = np.random.randint(39, 45, 1208)\n",
    "\n",
    "f55rec = np.random.randint(26, 33, 1208)\n",
    "f55poor = np.random.randint(37, 44, 1208)\n",
    "\n",
    "f65rec = np.random.randint(23, 30, 1208)\n",
    "f65poor =  np.random.randint(32, 38, 1208)\n",
    "\n",
    "m45rec =  np.random.randint(42, 45, 868)\n",
    "m45poor =  np.random.randint(53, 56, 868)\n",
    "\n",
    "m55rec = np.random.randint(39, 46, 868)\n",
    "m55poor = np.random.randint(46, 53, 868)\n",
    "\n",
    "m65rec = np.random.randint(33, 40, 868)\n",
    "m65poor = np.random.randint(38, 46, 868)"
   ]
  },
  {
   "cell_type": "code",
   "execution_count": 236,
   "metadata": {},
   "outputs": [
    {
     "data": {
      "text/plain": [
       "array([44, 44, 44, 44, 42, 42, 43, 42, 44, 42, 44, 43, 42, 43, 42, 43, 44,\n",
       "       42, 43, 43, 43, 44, 44, 43, 43, 42, 43, 43, 43, 43, 43, 44, 44, 42,\n",
       "       42, 43, 42, 42, 42, 42, 44, 43, 43, 44, 42, 44, 44, 43, 44, 44, 44,\n",
       "       44, 43, 42, 43, 42, 43, 44, 42, 43, 43, 44, 43, 42, 43, 44, 42, 42,\n",
       "       43, 42, 44, 42, 43, 43, 42, 44, 44, 43, 42, 43, 44, 43, 43, 44, 44,\n",
       "       43, 42, 43, 42, 44, 42, 42, 44, 43, 42, 42, 44, 42, 43, 44, 42, 43,\n",
       "       43, 43, 44, 43, 42, 44, 42, 44, 43, 44, 44, 42, 42, 43, 42, 42, 44,\n",
       "       42, 43, 44, 44, 44, 44, 44, 44, 43, 43, 44, 43, 42, 44, 42, 43, 43,\n",
       "       42, 43, 42, 42, 42, 42, 42, 42, 42, 44, 43, 44, 43, 44, 44, 44, 42,\n",
       "       43, 44, 44, 42, 42, 44, 43, 43, 44, 43, 43, 43, 42, 44, 44, 44, 44,\n",
       "       44, 43, 44, 44, 42, 43, 44, 42, 44, 43, 43, 42, 42, 43, 43, 44, 42,\n",
       "       44, 42, 44, 44, 43, 44, 44, 43, 43, 43, 42, 43, 42, 43, 44, 43, 43,\n",
       "       43, 44, 44, 42, 44, 42, 43, 43, 43, 44, 44, 44, 42, 44, 42, 43, 44,\n",
       "       42, 44, 44, 42, 44, 44, 44, 42, 43, 44, 44, 43, 43, 43, 44, 42, 44,\n",
       "       43, 44, 44, 44, 44, 43, 43, 42, 42, 43, 44, 42, 42, 42, 43, 43, 44,\n",
       "       43, 43, 44, 44, 43, 43, 42, 43, 44, 42, 44, 42, 43, 43, 42, 42, 43,\n",
       "       44, 43, 42, 44, 42, 44, 43, 44, 43, 43, 42, 42, 42, 43, 42, 44, 44,\n",
       "       42, 43, 44, 44, 42, 43, 44, 43, 42, 42, 42, 43, 42, 43, 42, 44, 42,\n",
       "       44, 44, 43, 43, 42, 44, 44, 44, 44, 44, 42, 42, 43, 43, 44, 42, 43,\n",
       "       44, 44, 43, 44, 42, 44, 43, 44, 42, 44, 42, 43, 43, 42, 43, 43, 43,\n",
       "       42, 43, 42, 43, 42, 42, 43, 43, 43, 43, 43, 43, 42, 42, 42, 43, 44,\n",
       "       42, 44, 43, 43, 44, 42, 42, 43, 44, 44, 44, 42, 43, 44, 43, 43, 42,\n",
       "       44, 43, 42, 44, 42, 43, 43, 44, 42, 43, 43, 42, 44, 43, 42, 44, 44,\n",
       "       43, 44, 42, 44, 43, 42, 44, 43, 43, 44, 42, 43, 44, 43, 42, 43, 44,\n",
       "       42, 44, 42, 43, 42, 43, 42, 42, 43, 44, 44, 42, 44, 43, 44, 44, 42,\n",
       "       42, 42, 44, 44, 43, 44, 43, 44, 43, 43, 43, 43, 42, 43, 43, 43, 44,\n",
       "       44, 42, 43, 43, 42, 43, 44, 42, 44, 42, 42, 42, 44, 43, 43, 44, 44,\n",
       "       44, 42, 44, 42, 44, 42, 42, 44, 43, 44, 44, 42, 43, 43, 43, 42, 43,\n",
       "       44, 44, 43, 43, 43, 44, 43, 42, 42, 44, 42, 44, 42, 42, 43, 42, 43,\n",
       "       44, 44, 44, 43, 44, 44, 44, 44, 44, 44, 42, 44, 42, 43, 43, 44, 44,\n",
       "       42, 44, 44, 42, 43, 44, 43, 42, 42, 43, 42, 42, 43, 42, 43, 43, 43,\n",
       "       44, 42, 43, 42, 44, 44, 44, 42, 43, 43, 43, 43, 44, 42, 44, 44, 42,\n",
       "       42, 42, 44, 42, 43, 44, 43, 44, 44, 43, 43, 42, 44, 43, 44, 42, 43,\n",
       "       42, 43, 43, 44, 42, 44, 43, 44, 42, 42, 44, 43, 44, 43, 42, 43, 43,\n",
       "       43, 43, 43, 43, 42, 44, 43, 44, 42, 43, 43, 44, 42, 44, 43, 42, 42,\n",
       "       43, 43, 43, 42, 43, 43, 44, 44, 44, 42, 44, 42, 44, 42, 44, 42, 44,\n",
       "       44, 43, 44, 42, 43, 43, 42, 43, 43, 44, 43, 43, 44, 42, 43, 44, 42,\n",
       "       44, 42, 42, 43, 42, 42, 43, 44, 42, 43, 42, 44, 44, 43, 42, 44, 42,\n",
       "       43, 42, 43, 42, 44, 44, 42, 43, 43, 44, 43, 44, 44, 43, 42, 42, 42,\n",
       "       44, 42, 43, 42, 42, 44, 42, 44, 42, 43, 43, 43, 42, 43, 44, 44, 44,\n",
       "       42, 43, 43, 44, 44, 44, 42, 42, 44, 42, 44, 43, 42, 43, 42, 43, 42,\n",
       "       44, 43, 43, 42, 43, 44, 42, 44, 43, 43, 42, 44, 44, 43, 42, 43, 43,\n",
       "       42, 44, 43, 43, 43, 44, 43, 44, 42, 42, 43, 44, 43, 44, 42, 43, 42,\n",
       "       44, 43, 43, 43, 42, 42, 43, 43, 43, 43, 42, 43, 43, 43, 43, 42, 43,\n",
       "       42, 42, 43, 43, 43, 44, 42, 43, 42, 42, 44, 42, 42, 43, 42, 43, 42,\n",
       "       43, 44, 43, 43, 43, 44, 42, 43, 44, 42, 44, 42, 42, 44, 42, 43, 44,\n",
       "       42, 44, 44, 43, 44, 42, 43, 42, 42, 43, 43, 44, 43, 44, 44, 44, 42,\n",
       "       44, 43, 43, 42, 42, 42, 44, 44, 44, 42, 44, 43, 42, 42, 42, 43, 43,\n",
       "       44, 44, 44, 42, 42, 42, 44, 42, 42, 42, 43, 42, 42, 44, 43, 43, 43,\n",
       "       42, 43, 42, 44, 44, 42, 42, 44, 42, 43, 44, 43, 42, 43, 43, 44, 44,\n",
       "       42, 43, 42, 44, 44, 42, 43, 42, 44, 42, 44, 43, 44, 42, 44, 44, 44,\n",
       "       42])"
      ]
     },
     "execution_count": 236,
     "metadata": {},
     "output_type": "execute_result"
    }
   ],
   "source": [
    "#test to see if the numpy arrays were created properly\n",
    "\n",
    "m45rec\n",
    "\n",
    "#array was created properly for males 45 years old with the recommended activity levels \n",
    "#so will continue with creating code"
   ]
  },
  {
   "cell_type": "markdown",
   "metadata": {},
   "source": [
    "### Part 3: Creating a Function for Ease that Calculates P-value"
   ]
  },
  {
   "cell_type": "markdown",
   "metadata": {},
   "source": [
    "The code that calculates p-value is from (https://towardsdatascience.com/hypothesis-testing-in-machine-learning-using-python-a0dc89e169ce). The code was then converted to a function for ease since I will be running the same code six different times to calculate the p-value between poor and recommended physical activity for each age group. I first define the function the choose variables to return. A t-test is a statistical test to compare the means of two groups (in my code example) and calculate if there is a statistical difference between the groups to test a hypothesis. The null hypothesis is the opposite of my hypothesis, it would be if individuals incorporate the recommended levels of physical inactivity, they will not have a lower risk of developing CVD. The alternative hypothesis is my hypothesis that I defined in the beginning of the notebook. The confidence interval is 95% which means alpha is 0.05. If the p-value is below 0.05, we reject the null hypothesis. If the p-value is above 0.05, we accept the null hypothesis."
   ]
  },
  {
   "cell_type": "code",
   "execution_count": 237,
   "metadata": {},
   "outputs": [],
   "source": [
    "#generating a p-value from the numpy arrays\n",
    "#higher numbers correlate with an increased lifetime risk of CVD\n",
    "#define variables and the number of individuals in the study\n",
    "\n",
    "f45rec = np.random.randint(27, 33, 1208)         \n",
    "f45poor = np.random.randint(39, 45, 1208)\n",
    "n = 1208\n",
    "\n",
    "#create new numpy arrays\n",
    "PA1 = np.array(f45rec)\n",
    "PA0 = np.array(f45poor)\n",
    "\n",
    "#alternate hypothesis: If individuals incorporate physical activity into their lives, they will have a lower risk of developing cardio vascular disease. \n",
    "#null hypothesis: if individuals incorporate the recommended levels of physical inactivity, they will not have a lower risk of developing CVD.\n",
    "\n",
    "#define the function for universal variables for each pvalue calculation\n",
    "\n",
    "def pvaluestats (REC, POOR):\n",
    "    #calculate the mean of data sets\n",
    "    PA1_mean = np.mean(PA1)\n",
    "    PA0_mean = np.mean(PA0)\n",
    "\n",
    "    print(\"PA1 mean value:\",PA1_mean)\n",
    "    print(\"PA0 mean value:\",PA0_mean)\n",
    "\n",
    "    #calculate the standard deviation\n",
    "    PA1_std = np.std(PA1)\n",
    "    PA0_std = np.std(PA0)\n",
    "\n",
    "    print(\"PA1 std value:\",PA1_std)\n",
    "    print(\"PA0 std value:\", PA0_std)\n",
    "\n",
    "    #perform a ttest between the data sets\n",
    "    ttest,pval = ttest_ind(PA1, PA0)\n",
    "    print(\"p-value\",pval)\n",
    "\n",
    "    if pval <0.05:\n",
    "        print(\"we reject null hypothesis\")\n",
    "    else:\n",
    "        print(\"we accept null hypothesis\")\n",
    "            \n",
    "    #pick values to return\n",
    "    return (PA1_std, PA0_std, PA1_mean, PA0_mean)\n"
   ]
  },
  {
   "cell_type": "code",
   "execution_count": 238,
   "metadata": {},
   "outputs": [
    {
     "name": "stdout",
     "output_type": "stream",
     "text": [
      "PA1 mean value: 29.4726821192053\n",
      "PA0 mean value: 41.53145695364238\n",
      "PA1 std value: 1.7029139687736767\n",
      "PA0 std value: 1.7611528799880087\n",
      "p-value 0.0\n",
      "we reject null hypothesis\n"
     ]
    }
   ],
   "source": [
    "#for females 45 years old\n",
    "for45yofemale = pvaluestats(f45rec, f45poor)"
   ]
  },
  {
   "cell_type": "code",
   "execution_count": 239,
   "metadata": {},
   "outputs": [
    {
     "name": "stdout",
     "output_type": "stream",
     "text": [
      "PA1 mean value: 29.4726821192053\n",
      "PA0 mean value: 41.53145695364238\n",
      "PA1 std value: 1.7029139687736767\n",
      "PA0 std value: 1.7611528799880087\n",
      "p-value 0.0\n",
      "we reject null hypothesis\n"
     ]
    }
   ],
   "source": [
    "#for females 55 years old\n",
    "for55yofemale = pvaluestats(f55rec, f55poor)"
   ]
  },
  {
   "cell_type": "code",
   "execution_count": 240,
   "metadata": {},
   "outputs": [
    {
     "name": "stdout",
     "output_type": "stream",
     "text": [
      "PA1 mean value: 29.4726821192053\n",
      "PA0 mean value: 41.53145695364238\n",
      "PA1 std value: 1.7029139687736767\n",
      "PA0 std value: 1.7611528799880087\n",
      "p-value 0.0\n",
      "we reject null hypothesis\n"
     ]
    }
   ],
   "source": [
    "#for females 65 years old\n",
    "for65yofemale = pvaluestats(f65rec, f65poor)"
   ]
  },
  {
   "cell_type": "code",
   "execution_count": 241,
   "metadata": {},
   "outputs": [
    {
     "name": "stdout",
     "output_type": "stream",
     "text": [
      "PA1 mean value: 29.4726821192053\n",
      "PA0 mean value: 41.53145695364238\n",
      "PA1 std value: 1.7029139687736767\n",
      "PA0 std value: 1.7611528799880087\n",
      "p-value 0.0\n",
      "we reject null hypothesis\n"
     ]
    }
   ],
   "source": [
    "#for males 45 years old \n",
    "for45yomale = pvaluestats(m45rec, m45poor)"
   ]
  },
  {
   "cell_type": "code",
   "execution_count": 242,
   "metadata": {},
   "outputs": [
    {
     "name": "stdout",
     "output_type": "stream",
     "text": [
      "PA1 mean value: 29.4726821192053\n",
      "PA0 mean value: 41.53145695364238\n",
      "PA1 std value: 1.7029139687736767\n",
      "PA0 std value: 1.7611528799880087\n",
      "p-value 0.0\n",
      "we reject null hypothesis\n"
     ]
    }
   ],
   "source": [
    "#for males 55 years old\n",
    "for55yomale = pvaluestats(m55rec, m55poor)"
   ]
  },
  {
   "cell_type": "code",
   "execution_count": 243,
   "metadata": {},
   "outputs": [
    {
     "name": "stdout",
     "output_type": "stream",
     "text": [
      "PA1 mean value: 29.4726821192053\n",
      "PA0 mean value: 41.53145695364238\n",
      "PA1 std value: 1.7029139687736767\n",
      "PA0 std value: 1.7611528799880087\n",
      "p-value 0.0\n",
      "we reject null hypothesis\n"
     ]
    }
   ],
   "source": [
    "#for males 65 years old\n",
    "for65yomale = pvaluestats(m65rec, m65poor)"
   ]
  },
  {
   "cell_type": "code",
   "execution_count": 244,
   "metadata": {},
   "outputs": [
    {
     "name": "stdout",
     "output_type": "stream",
     "text": [
      "(1.7029139687736767, 1.7611528799880087, 29.4726821192053, 41.53145695364238)\n"
     ]
    }
   ],
   "source": [
    "#to return the variables we specified earlier\n",
    "print(for65yomale)"
   ]
  },
  {
   "cell_type": "markdown",
   "metadata": {},
   "source": [
    "### Part 4: Visualizing the Data"
   ]
  },
  {
   "cell_type": "markdown",
   "metadata": {},
   "source": [
    "I used matplotlib to generate a boxplot of the data. The data is separated into different plots for females and males (reason below). On the X axis is different numbered groups by age and physical activity, on the Y axis is the percent of lifetime risk of CVD. I could not figure out how to title each box by age and activity level, but in the code, you can see which age group and physical activity level corresponds to the number of each boxplot. This plot is optimal for visualizing how different groups of data are from eachother by showing the five number summary - the minimum, first quartile (Q1), median, third quartile (Q3), and the maximum of the data."
   ]
  },
  {
   "cell_type": "code",
   "execution_count": 245,
   "metadata": {},
   "outputs": [
    {
     "data": {
      "image/png": "[encoded data removed]",
      "text/plain": [
       "<Figure size 720x648 with 1 Axes>"
      ]
     },
     "metadata": {},
     "output_type": "display_data"
    }
   ],
   "source": [
    "#define the data to plot\n",
    "one=f45rec\n",
    "two=f45poor\n",
    "three=f55rec\n",
    "four=f55poor\n",
    "five=f65rec\n",
    "six=f65poor\n",
    "\n",
    "#name the data\n",
    "to_plot=[one,two,three,four,five,six]\n",
    "\n",
    "#customize the size of the plot and give the plot a title\n",
    "fig=plt.figure(1,figsize=(10,9))\n",
    "fig.suptitle('Female Lifetime Risk of CVD', fontsize=14, fontweight='bold')\n",
    "\n",
    "\n",
    "ax=fig.add_subplot(111)\n",
    "bp=ax.boxplot(to_plot)\n",
    "\n",
    "#add titles to the axes \n",
    "ax.set_xlabel('Age')\n",
    "ax.set_ylabel('% Liferime Risk of CVD')\n",
    "\n",
    "\n",
    "fig.savefig('boxplot.png',bbox_inches='tight')\n"
   ]
  },
  {
   "cell_type": "code",
   "execution_count": 246,
   "metadata": {},
   "outputs": [
    {
     "data": {
      "image/png": "[encoded data removed]",
      "text/plain": [
       "<Figure size 720x648 with 1 Axes>"
      ]
     },
     "metadata": {},
     "output_type": "display_data"
    }
   ],
   "source": [
    "one=m45rec\n",
    "two=m45poor\n",
    "three=m55rec\n",
    "four=m55poor\n",
    "five=m65rec\n",
    "six=m65poor\n",
    "\n",
    "to_plot=[one,two,three,four,five,six]\n",
    "\n",
    "fig=plt.figure(1,figsize=(10,9))\n",
    "fig.suptitle('Male Lifetime Risk of CVD', fontsize=14, fontweight='bold')\n",
    "\n",
    "\n",
    "ax=fig.add_subplot(111)\n",
    "bp=ax.boxplot(to_plot)\n",
    "\n",
    "ax.set_xlabel('Age')\n",
    "ax.set_ylabel('% Liferime Risk of CVD')\n",
    "\n",
    "\n",
    "fig.savefig('boxplot.png',bbox_inches='tight')\n"
   ]
  },
  {
   "cell_type": "markdown",
   "metadata": {},
   "source": [
    "### Part 5: Analysis of the Results"
   ]
  },
  {
   "cell_type": "markdown",
   "metadata": {},
   "source": [
    "The plots above show the distribution of the data for six different groups of people who participated in the study. The first graph shows lifetime % risk for men and the second shows lifetime % risk for women. The subjects were separated by their gender because men generally have a higher risk of CVD even when traditional risk factors (including physical activity) are considered (4). For both genders, boxes 1, 2, 3, 4, 5, and 6 corresponded with ages 45 recommended activty, 45 poor activity, 55 recommended activity, 55 poor activity, 65 recommended activity, and 65 poor activity. For both plots, boxes 1, 3, and 5 (age groups with the recommended levels of activity) are lower on the plot, corresponding with a lower % lifetime risk of CVD, while boxes 2, 4, and 6 (age groups with no activity) are higher on the plot, corresponding with a higher % lifetime risk of CVD. \n",
    "\n",
    "Additionally, all of the p-values generated earlier in the defined function in the code are below 0.05 which means that we can reject the null hypothesis. For each age group for females and males, the recommended and poor group for 45, 55, and 65 were computed in a t-test to generate the p-values. The data offers support to my hypothesis that individuals who incorporate the WHO recommended physical activity into their lives, have a lower risk of developing CVD."
   ]
  },
  {
   "cell_type": "markdown",
   "metadata": {},
   "source": [
    "### Part 6: References"
   ]
  },
  {
   "cell_type": "markdown",
   "metadata": {},
   "source": [
    "1. https://www.ahajournals.org/doi/10.1161/CIR.0000000000000757\n",
    "\n",
    "2. https://www.ncbi.nlm.nih.gov/pmc/articles/PMC3315253/\n",
    "\n",
    "3. https://www.ncbi.nlm.nih.gov/pmc/articles/PMC5511058/#R40\n",
    "\n",
    "4. https://www.health.harvard.edu/heart-health/throughout-life-heart-attacks-are-twice-as-common-in-men-than-women#:~:text=Researchers%20found%20that%20throughout%20life,mass%20index%2C%20and%20physical%20activity\n",
    "\n",
    "5. https://towardsdatascience.com/hypothesis-testing-in-machine-learning-using-python-a0dc89e169ce"
   ]
  },
  {
   "cell_type": "code",
   "execution_count": null,
   "metadata": {},
   "outputs": [],
   "source": []
  }
 ],
 "metadata": {
  "kernelspec": {
   "display_name": "Python 3",
   "language": "python",
   "name": "python3"
  },
  "language_info": {
   "codemirror_mode": {
    "name": "ipython",
    "version": 3
   },
   "file_extension": ".py",
   "mimetype": "text/x-python",
   "name": "python",
   "nbconvert_exporter": "python",
   "pygments_lexer": "ipython3",
   "version": "3.8.5"
  }
 },
 "nbformat": 4,
 "nbformat_minor": 4
}
